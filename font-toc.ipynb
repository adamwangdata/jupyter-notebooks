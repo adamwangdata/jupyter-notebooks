{
 "cells": [
  {
   "cell_type": "markdown",
   "id": "romance-lincoln",
   "metadata": {},
   "source": [
    "This markdown cell tests how LaTeX renders when using Binder.\n",
    "There is a correspondance between sums and integrals:\n",
    "\\begin{equation}\n",
    "\\sum_i f(x_i) \\to \\int f(x)\\,dx \\,.\n",
    "\\end{equation}\n",
    "We can also see the inline version: $\\sum_i f(x_i) \\to \\int f(x)\\,dx$.\n",
    "Let's end with these famous equations $a^2 + b^2 = c^2$ and $e^{i\\pi} = -1$."
   ]
  },
  {
   "cell_type": "markdown",
   "id": "south-manchester",
   "metadata": {},
   "source": [
    "# Section\n",
    "\n",
    "We'll also test a `.ipynb` file with extensions renders using Binder."
   ]
  },
  {
   "cell_type": "markdown",
   "id": "exclusive-planet",
   "metadata": {},
   "source": [
    "## Subsection"
   ]
  },
  {
   "cell_type": "markdown",
   "id": "distinct-entertainment",
   "metadata": {},
   "source": [
    "## Another Subsection"
   ]
  },
  {
   "cell_type": "markdown",
   "id": "lesser-google",
   "metadata": {},
   "source": [
    "# A New Section\n",
    "\n",
    "## Math Works: $a^2 + b^2 = c^2$\n",
    "\n",
    "# Can't Forget Code"
   ]
  },
  {
   "cell_type": "code",
   "execution_count": 1,
   "id": "loaded-shoulder",
   "metadata": {},
   "outputs": [
    {
     "name": "stdout",
     "output_type": "stream",
     "text": [
      "Hello World!\n"
     ]
    }
   ],
   "source": [
    "print(\"Hello World!\")"
   ]
  }
 ],
 "metadata": {
  "kernelspec": {
   "display_name": "Python 3",
   "language": "python",
   "name": "python3"
  },
  "language_info": {
   "codemirror_mode": {
    "name": "ipython",
    "version": 3
   },
   "file_extension": ".py",
   "mimetype": "text/x-python",
   "name": "python",
   "nbconvert_exporter": "python",
   "pygments_lexer": "ipython3",
   "version": "3.7.3"
  },
  "toc": {
   "base_numbering": 1,
   "nav_menu": {},
   "number_sections": true,
   "sideBar": true,
   "skip_h1_title": false,
   "title_cell": "Table of Contents",
   "title_sidebar": "Contents",
   "toc_cell": false,
   "toc_position": {},
   "toc_section_display": true,
   "toc_window_display": true
  }
 },
 "nbformat": 4,
 "nbformat_minor": 5
}
